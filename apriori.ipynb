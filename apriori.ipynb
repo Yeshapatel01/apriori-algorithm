{
 "cells": [
  {
   "cell_type": "code",
   "execution_count": 6,
   "id": "dd08582c-9651-4909-8d14-987beaf6d198",
   "metadata": {},
   "outputs": [],
   "source": [
    "# Importing necessary libraries\n",
    "import pandas as pd\n",
    "import matplotlib.pyplot as plt\n",
    "from mlxtend.frequent_patterns import apriori, association_rules"
   ]
  },
  {
   "cell_type": "code",
   "execution_count": 7,
   "id": "6f525429-7444-4c36-a8fa-f29d189937b1",
   "metadata": {},
   "outputs": [],
   "source": [
    "# Sample data\n",
    "data = {'Transaction': ['T1', 'T2', 'T3', 'T4', 'T5'],\n",
    "        'Items': [['A', 'B', 'C'],\n",
    "                  ['A', 'C'],\n",
    "                  ['B', 'C'],\n",
    "                  ['A', 'B'],\n",
    "                  ['B', 'C']]}"
   ]
  },
  {
   "cell_type": "code",
   "execution_count": 8,
   "id": "bb6d325a-7daa-4e30-94ce-bd08608400cb",
   "metadata": {},
   "outputs": [],
   "source": [
    "# Creating a DataFrame\n",
    "df = pd.DataFrame(data)"
   ]
  },
  {
   "cell_type": "code",
   "execution_count": 9,
   "id": "23219200-236c-457c-96e9-ad071a06a449",
   "metadata": {},
   "outputs": [
    {
     "data": {
      "text/html": [
       "<div>\n",
       "<style scoped>\n",
       "    .dataframe tbody tr th:only-of-type {\n",
       "        vertical-align: middle;\n",
       "    }\n",
       "\n",
       "    .dataframe tbody tr th {\n",
       "        vertical-align: top;\n",
       "    }\n",
       "\n",
       "    .dataframe thead th {\n",
       "        text-align: right;\n",
       "    }\n",
       "</style>\n",
       "<table border=\"1\" class=\"dataframe\">\n",
       "  <thead>\n",
       "    <tr style=\"text-align: right;\">\n",
       "      <th></th>\n",
       "      <th>Transaction</th>\n",
       "      <th>Items</th>\n",
       "    </tr>\n",
       "  </thead>\n",
       "  <tbody>\n",
       "    <tr>\n",
       "      <th>0</th>\n",
       "      <td>T1</td>\n",
       "      <td>[A, B, C]</td>\n",
       "    </tr>\n",
       "    <tr>\n",
       "      <th>1</th>\n",
       "      <td>T2</td>\n",
       "      <td>[A, C]</td>\n",
       "    </tr>\n",
       "    <tr>\n",
       "      <th>2</th>\n",
       "      <td>T3</td>\n",
       "      <td>[B, C]</td>\n",
       "    </tr>\n",
       "    <tr>\n",
       "      <th>3</th>\n",
       "      <td>T4</td>\n",
       "      <td>[A, B]</td>\n",
       "    </tr>\n",
       "    <tr>\n",
       "      <th>4</th>\n",
       "      <td>T5</td>\n",
       "      <td>[B, C]</td>\n",
       "    </tr>\n",
       "  </tbody>\n",
       "</table>\n",
       "</div>"
      ],
      "text/plain": [
       "  Transaction      Items\n",
       "0          T1  [A, B, C]\n",
       "1          T2     [A, C]\n",
       "2          T3     [B, C]\n",
       "3          T4     [A, B]\n",
       "4          T5     [B, C]"
      ]
     },
     "execution_count": 9,
     "metadata": {},
     "output_type": "execute_result"
    }
   ],
   "source": [
    "df.head()"
   ]
  },
  {
   "cell_type": "code",
   "execution_count": 10,
   "id": "0ef80801-3e1a-4d24-a1b5-b4fe1c2cc20d",
   "metadata": {},
   "outputs": [
    {
     "data": {
      "text/plain": [
       "(5, 2)"
      ]
     },
     "execution_count": 10,
     "metadata": {},
     "output_type": "execute_result"
    }
   ],
   "source": [
    "df.shape"
   ]
  },
  {
   "cell_type": "code",
   "execution_count": 11,
   "id": "28327cff-7c55-484c-8dd0-0088409ee64b",
   "metadata": {},
   "outputs": [],
   "source": [
    "# Function to encode items\n",
    "def encode_items(x):\n",
    "    if x:\n",
    "        return 1\n",
    "    return 0"
   ]
  },
  {
   "cell_type": "code",
   "execution_count": 12,
   "id": "7b6c9f32-099e-4003-947c-0b61f5330120",
   "metadata": {},
   "outputs": [],
   "source": [
    "# Applying one-hot encoding and handling NaN values\n",
    "basket_sets = df['Items'].apply(lambda x: pd.Series(x).apply(encode_items)).fillna(0)"
   ]
  },
  {
   "cell_type": "code",
   "execution_count": 13,
   "id": "9213e477-29a3-4056-9ff8-80ec8d57e0c5",
   "metadata": {},
   "outputs": [],
   "source": [
    "# Initialize a dictionary to store frequent itemsets\n",
    "frequent_itemsets_dict = {}"
   ]
  },
  {
   "cell_type": "code",
   "execution_count": 14,
   "id": "b4042c21-264d-492a-9d21-bd01abee992b",
   "metadata": {},
   "outputs": [
    {
     "name": "stdout",
     "output_type": "stream",
     "text": [
      "\n",
      "Frequent Itemsets with Minimum Support = 0.2:\n",
      "\n",
      "   support   itemsets\n",
      "0      1.0        (0)\n",
      "1      1.0        (1)\n",
      "2      0.2        (2)\n",
      "3      1.0     (0, 1)\n",
      "4      0.2     (0, 2)\n",
      "5      0.2     (1, 2)\n",
      "6      0.2  (0, 1, 2)\n",
      "\n",
      "Frequent Itemsets with Minimum Support = 0.3:\n",
      "\n",
      "   support itemsets\n",
      "0      1.0      (0)\n",
      "1      1.0      (1)\n",
      "2      1.0   (0, 1)\n",
      "\n",
      "Frequent Itemsets with Minimum Support = 0.4:\n",
      "\n",
      "   support itemsets\n",
      "0      1.0      (0)\n",
      "1      1.0      (1)\n",
      "2      1.0   (0, 1)\n"
     ]
    },
    {
     "name": "stderr",
     "output_type": "stream",
     "text": [
      "C:\\Users\\urvis\\AppData\\Local\\Programs\\Python\\Python311\\Lib\\site-packages\\mlxtend\\frequent_patterns\\fpcommon.py:110: DeprecationWarning: DataFrames with non-bool types result in worse computationalperformance and their support might be discontinued in the future.Please use a DataFrame with bool type\n",
      "  warnings.warn(\n",
      "C:\\Users\\urvis\\AppData\\Local\\Programs\\Python\\Python311\\Lib\\site-packages\\mlxtend\\frequent_patterns\\fpcommon.py:110: DeprecationWarning: DataFrames with non-bool types result in worse computationalperformance and their support might be discontinued in the future.Please use a DataFrame with bool type\n",
      "  warnings.warn(\n",
      "C:\\Users\\urvis\\AppData\\Local\\Programs\\Python\\Python311\\Lib\\site-packages\\mlxtend\\frequent_patterns\\fpcommon.py:110: DeprecationWarning: DataFrames with non-bool types result in worse computationalperformance and their support might be discontinued in the future.Please use a DataFrame with bool type\n",
      "  warnings.warn(\n"
     ]
    }
   ],
   "source": [
    "# Iterate over different support thresholds\n",
    "for min_support in [0.2, 0.3, 0.4]:  # Adjust as needed\n",
    "    # Applying Apriori algorithm to find frequent itemsets\n",
    "    frequent_itemsets = apriori(basket_sets, min_support=min_support, use_colnames=True)\n",
    "    \n",
    "    # Store frequent itemsets in the dictionary\n",
    "    frequent_itemsets_dict[min_support] = frequent_itemsets\n",
    "\n",
    "    # Displaying frequent itemsets\n",
    "    print(f\"\\nFrequent Itemsets with Minimum Support = {min_support}:\\n\")\n",
    "    print(frequent_itemsets)\n",
    "    "
   ]
  },
  {
   "cell_type": "code",
   "execution_count": 15,
   "id": "1c8f2b16-5680-4456-a0ff-a43a1450e873",
   "metadata": {},
   "outputs": [],
   "source": [
    "# Extract the last set of frequent itemsets\n",
    "last_frequent_itemsets = frequent_itemsets_dict[0.4]"
   ]
  },
  {
   "cell_type": "code",
   "execution_count": 16,
   "id": "cfc16c57-7aed-4d0c-88de-06bb56b0c54e",
   "metadata": {},
   "outputs": [
    {
     "name": "stdout",
     "output_type": "stream",
     "text": [
      "\n",
      "Frequent Itemsets (Last Set):\n",
      "\n",
      "0\n",
      "1\n",
      "0 1\n"
     ]
    }
   ],
   "source": [
    "# Displaying the last set of frequent itemsets\n",
    "print(\"\\nFrequent Itemsets (Last Set):\\n\")\n",
    "for _, row in last_frequent_itemsets.iterrows():\n",
    "    print(' '.join(map(str, row['itemsets'])))"
   ]
  },
  {
   "cell_type": "code",
   "execution_count": 17,
   "id": "80245f90-4d12-40e8-a36e-88272dd140de",
   "metadata": {},
   "outputs": [],
   "source": [
    "# Generating association rules for the last set of frequent itemsets\n",
    "rules_last_set = association_rules(last_frequent_itemsets, metric=\"confidence\", min_threshold=0.7)"
   ]
  },
  {
   "cell_type": "code",
   "execution_count": 18,
   "id": "a94d4df7-f1c0-4cbe-86b2-2658316d50d0",
   "metadata": {},
   "outputs": [
    {
     "name": "stdout",
     "output_type": "stream",
     "text": [
      "\n",
      "Strongly Associated Rules from Last Set:\n",
      "  antecedents consequents  antecedent support  consequent support  support  \\\n",
      "0         (0)         (1)                 1.0                 1.0      1.0   \n",
      "1         (1)         (0)                 1.0                 1.0      1.0   \n",
      "\n",
      "   confidence  lift  leverage  conviction  zhangs_metric  \n",
      "0         1.0   1.0       0.0         inf            0.0  \n",
      "1         1.0   1.0       0.0         inf            0.0  \n"
     ]
    }
   ],
   "source": [
    "# Displaying association rules for the last set\n",
    "print(\"\\nStrongly Associated Rules from Last Set:\")\n",
    "print(rules_last_set)"
   ]
  },
  {
   "cell_type": "code",
   "execution_count": 19,
   "id": "2da0d276-3de4-448f-9455-264dcc56be48",
   "metadata": {},
   "outputs": [
    {
     "name": "stdout",
     "output_type": "stream",
     "text": [
      "Rule: 0 -> 1\n",
      "Support: 1.000\n",
      "Confidence: 1.000\n",
      "Lift: 1.000\n",
      "=====================================\n",
      "Rule: 1 -> 0\n",
      "Support: 1.000\n",
      "Confidence: 1.000\n",
      "Lift: 1.000\n",
      "=====================================\n"
     ]
    }
   ],
   "source": [
    "# Printing individual association rules with item names\n",
    "for _, item in rules_last_set.iterrows():\n",
    "    antecedents = ', '.join(map(str, item['antecedents']))\n",
    "    consequents = ', '.join(map(str, item['consequents']))\n",
    "\n",
    "    print(f\"Rule: {antecedents} -> {consequents}\")\n",
    "    print(f\"Support: {item['support']:.3f}\")\n",
    "    print(f\"Confidence: {item['confidence']:.3f}\")\n",
    "    print(f\"Lift: {item['lift']:.3f}\")\n",
    "    print(\"=====================================\")"
   ]
  },
  {
   "cell_type": "code",
   "execution_count": 20,
   "id": "6b716e14-5cf6-4f4d-9fbe-bef26b85793b",
   "metadata": {},
   "outputs": [
    {
     "data": {
      "image/png": "[encoded data removed]",
      "text/plain": [
       "<Figure size 1200x400 with 2 Axes>"
      ]
     },
     "metadata": {},
     "output_type": "display_data"
    }
   ],
   "source": [
    "# Plotting results for the last set of frequent itemsets\n",
    "fig, axes = plt.subplots(1, 2, figsize=(12, 4))\n",
    "\n",
    "# Plotting frequent itemsets\n",
    "last_frequent_itemsets.plot(ax=axes[0], kind='bar', x='itemsets', y='support', legend=False)\n",
    "axes[0].set_title('Frequent Itemsets (Last Set)')\n",
    "\n",
    "# Plotting association rules\n",
    "axes[1].scatter(rules_last_set['support'], rules_last_set['confidence'], alpha=0.5)\n",
    "axes[1].set_xlabel('Support')\n",
    "axes[1].set_ylabel('Confidence')\n",
    "axes[1].set_title('Association Rules (Last Set)')\n",
    "\n",
    "plt.tight_layout()\n",
    "plt.show()"
   ]
  },
  {
   "cell_type": "code",
   "execution_count": null,
   "id": "1e5ecb15-3396-4394-8f2e-2072105dd25a",
   "metadata": {},
   "outputs": [],
   "source": []
  },
  {
   "cell_type": "code",
   "execution_count": null,
   "id": "a7c0fed5-77f2-404e-8a5e-11a0cba787a7",
   "metadata": {},
   "outputs": [],
   "source": []
  }
 ],
 "metadata": {
  "kernelspec": {
   "display_name": "Python 3 (ipykernel)",
   "language": "python",
   "name": "python3"
  },
  "language_info": {
   "codemirror_mode": {
    "name": "ipython",
    "version": 3
   },
   "file_extension": ".py",
   "mimetype": "text/x-python",
   "name": "python",
   "nbconvert_exporter": "python",
   "pygments_lexer": "ipython3",
   "version": "3.11.4"
  }
 },
 "nbformat": 4,
 "nbformat_minor": 5
}
